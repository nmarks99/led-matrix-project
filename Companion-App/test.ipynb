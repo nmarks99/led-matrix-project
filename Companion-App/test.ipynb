{
 "metadata": {
  "language_info": {
   "codemirror_mode": {
    "name": "ipython",
    "version": 3
   },
   "file_extension": ".py",
   "mimetype": "text/x-python",
   "name": "python",
   "nbconvert_exporter": "python",
   "pygments_lexer": "ipython3",
   "version": "3.9.4"
  },
  "orig_nbformat": 2,
  "kernelspec": {
   "name": "python394jvsc74a57bd0f0a6e35e9bb8b68e332f7236e9bb08965be7a42f997ca8df5b2713dcaaabb3cd",
   "display_name": "Python 3.9.4 64-bit"
  },
  "metadata": {
   "interpreter": {
    "hash": "f0a6e35e9bb8b68e332f7236e9bb08965be7a42f997ca8df5b2713dcaaabb3cd"
   }
  }
 },
 "nbformat": 4,
 "nbformat_minor": 2,
 "cells": [
  {
   "source": [
    "# Python writing to serial test"
   ],
   "cell_type": "markdown",
   "metadata": {}
  },
  {
   "cell_type": "code",
   "execution_count": 5,
   "metadata": {},
   "outputs": [],
   "source": [
    "import serial\n",
    "import time\n",
    "from serial.tools import list_ports   \n",
    "\n"
   ]
  },
  {
   "cell_type": "code",
   "execution_count": 24,
   "metadata": {},
   "outputs": [
    {
     "output_type": "stream",
     "name": "stdout",
     "text": [
      "COM8\n<class 'str'>\n"
     ]
    }
   ],
   "source": [
    "ports = list(serial.tools.list_ports.comports())\n",
    "for p in ports:\n",
    "    if 'USB-SERIAL CH340' in p[1]:\n",
    "        print(p[0])\n",
    "        print(type(p[0]))\n"
   ]
  },
  {
   "cell_type": "code",
   "execution_count": 10,
   "metadata": {},
   "outputs": [
    {
     "output_type": "execute_result",
     "data": {
      "text/plain": [
       "<serial.tools.list_ports_common.ListPortInfo at 0x1dda4b9f5e0>"
      ]
     },
     "metadata": {},
     "execution_count": 10
    }
   ],
   "source": []
  }
 ]
}